{
  "nbformat": 4,
  "nbformat_minor": 0,
  "metadata": {
    "colab": {
      "name": "Alexnet-base.ipynb",
      "provenance": [],
      "collapsed_sections": [],
      "toc_visible": true
    },
    "kernelspec": {
      "display_name": "Python 3",
      "language": "python",
      "name": "python3"
    },
    "language_info": {
      "codemirror_mode": {
        "name": "ipython",
        "version": 3
      },
      "file_extension": ".py",
      "mimetype": "text/x-python",
      "name": "python",
      "nbconvert_exporter": "python",
      "pygments_lexer": "ipython3",
      "version": "3.7.6"
    },
    "accelerator": "GPU"
  },
  "cells": [
    {
      "cell_type": "code",
      "metadata": {
        "colab": {
          "base_uri": "https://localhost:8080/"
        },
        "id": "eMm4HBSpEInl",
        "outputId": "7efb9684-8c21-4079-f307-b17e1d24d6f4"
      },
      "source": [
        "from __future__ import print_function \n",
        "from __future__ import division\n",
        "import torch\n",
        "import torch.nn as nn\n",
        "import torch.optim as optim\n",
        "import numpy as np\n",
        "import torchvision\n",
        "from torchvision import datasets, models, transforms\n",
        "import matplotlib.pyplot as plt\n",
        "import time\n",
        "import os\n",
        "import copy\n",
        "from sklearn import preprocessing\n",
        "from sklearn.metrics import roc_auc_score, confusion_matrix,roc_curve,auc\n",
        "print(\"PyTorch Version: \",torch.__version__)\n",
        "print(\"Torchvision Version: \",torchvision.__version__)"
      ],
      "execution_count": null,
      "outputs": [
        {
          "output_type": "stream",
          "text": [
            "PyTorch Version:  1.7.0+cu101\n",
            "Torchvision Version:  0.8.1+cu101\n"
          ],
          "name": "stdout"
        }
      ]
    },
    {
      "cell_type": "markdown",
      "metadata": {
        "id": "nNZrGHC_EInr"
      },
      "source": [
        "# Build model"
      ]
    },
    {
      "cell_type": "code",
      "metadata": {
        "colab": {
          "base_uri": "https://localhost:8080/"
        },
        "id": "EyUKh3e6nlwj",
        "outputId": "7b584001-1495-459d-b1ed-fa2c2b7acff2"
      },
      "source": [
        "%pip install Google-Colab-Transfer\r\n",
        "import colab_transfer\r\n",
        "\r\n",
        "gd = colab_transfer.get_path_to_home_of_google_drive()\r\n",
        "lm = colab_transfer.get_path_to_home_of_local_machine()\r\n",
        "\r\n",
        "colab_transfer.mount_google_drive()\r\n"
      ],
      "execution_count": null,
      "outputs": [
        {
          "output_type": "stream",
          "text": [
            "Collecting Google-Colab-Transfer\n",
            "  Downloading https://files.pythonhosted.org/packages/a0/90/76fc38bcad442018977ed0e4e663473ef56a4d15395b2aa09055e8c49185/Google_Colab_Transfer-0.1.6-py3-none-any.whl\n",
            "Installing collected packages: Google-Colab-Transfer\n",
            "Successfully installed Google-Colab-Transfer-0.1.6\n",
            "Mounted at /content/drive/\n"
          ],
          "name": "stdout"
        }
      ]
    },
    {
      "cell_type": "code",
      "metadata": {
        "id": "IH0GwybNle_Q"
      },
      "source": [
        "#!rm dataset/preprocessed_data_cropped/test/pneumonia -r\r\n",
        "#!rm dataset/preprocessed_data_cropped/train/pneumonia -r\r\n"
      ],
      "execution_count": null,
      "outputs": []
    },
    {
      "cell_type": "code",
      "metadata": {
        "colab": {
          "base_uri": "https://localhost:8080/",
          "height": 371
        },
        "id": "oKhn8NpFv91B",
        "outputId": "c7988ded-588c-4ed7-b98c-86a3c084336a"
      },
      "source": [
        "!pip install pyunpack\r\n",
        "!pip install patool\r\n",
        "from pyunpack import Archive\r\n",
        "Archive('drive/MyDrive/preprocessed_data_cropped.rar').extractall('dataset')"
      ],
      "execution_count": null,
      "outputs": [
        {
          "output_type": "stream",
          "text": [
            "Collecting pyunpack\n",
            "  Downloading https://files.pythonhosted.org/packages/83/29/020436b1d8e96e5f26fa282b9c3c13a3b456a36b9ea2edc87c5fed008369/pyunpack-0.2.2-py2.py3-none-any.whl\n",
            "Collecting easyprocess\n",
            "  Downloading https://files.pythonhosted.org/packages/48/3c/75573613641c90c6d094059ac28adb748560d99bd27ee6f80cce398f404e/EasyProcess-0.3-py2.py3-none-any.whl\n",
            "Collecting entrypoint2\n",
            "  Downloading https://files.pythonhosted.org/packages/c2/ca/00c8767568924e5c2209da99b6abdeeed9d11cbae2a713d54d041b092a09/entrypoint2-0.2.3-py2.py3-none-any.whl\n",
            "Collecting argparse\n",
            "  Downloading https://files.pythonhosted.org/packages/f2/94/3af39d34be01a24a6e65433d19e107099374224905f1e0cc6bbe1fd22a2f/argparse-1.4.0-py2.py3-none-any.whl\n",
            "Installing collected packages: easyprocess, argparse, entrypoint2, pyunpack\n",
            "Successfully installed argparse-1.4.0 easyprocess-0.3 entrypoint2-0.2.3 pyunpack-0.2.2\n"
          ],
          "name": "stdout"
        },
        {
          "output_type": "display_data",
          "data": {
            "application/vnd.colab-display-data+json": {
              "pip_warning": {
                "packages": [
                  "argparse"
                ]
              }
            }
          },
          "metadata": {
            "tags": []
          }
        },
        {
          "output_type": "stream",
          "text": [
            "Collecting patool\n",
            "\u001b[?25l  Downloading https://files.pythonhosted.org/packages/43/94/52243ddff508780dd2d8110964320ab4851134a55ab102285b46e740f76a/patool-1.12-py2.py3-none-any.whl (77kB)\n",
            "\r\u001b[K     |████▎                           | 10kB 16.2MB/s eta 0:00:01\r\u001b[K     |████████▌                       | 20kB 21.9MB/s eta 0:00:01\r\u001b[K     |████████████▊                   | 30kB 27.3MB/s eta 0:00:01\r\u001b[K     |█████████████████               | 40kB 24.4MB/s eta 0:00:01\r\u001b[K     |█████████████████████▏          | 51kB 17.5MB/s eta 0:00:01\r\u001b[K     |█████████████████████████▍      | 61kB 15.9MB/s eta 0:00:01\r\u001b[K     |█████████████████████████████▋  | 71kB 14.7MB/s eta 0:00:01\r\u001b[K     |████████████████████████████████| 81kB 7.2MB/s \n",
            "\u001b[?25hInstalling collected packages: patool\n",
            "Successfully installed patool-1.12\n"
          ],
          "name": "stdout"
        }
      ]
    },
    {
      "cell_type": "code",
      "metadata": {
        "id": "PvXaLLHVngsm"
      },
      "source": [
        "#set pytorch seed for reproducibility\n",
        "torch.manual_seed(0)\n",
        "np.random.seed(0)"
      ],
      "execution_count": null,
      "outputs": []
    },
    {
      "cell_type": "code",
      "metadata": {
        "id": "n4uSINF4EIns"
      },
      "source": [
        "# Top level data directory. Here we assume the format of the directory conforms \n",
        "#   to the ImageFolder structure\n",
        "data_dir = \"dataset/preprocessed_data_cropped/\"\n",
        "model_name = \"alexnet\"# Models to choose from [resnet, alexnet, vgg, squeezenet, densenet, inception]\n",
        "num_classes = 3# Number of classes in the dataset\n",
        "#batch_size = 8# Batch size for training (change depending on how much memory you have)\n",
        "num_epochs = 20# Number of epochs to train for \n",
        "# Flag for feature extracting. When False, we finetune the whole model, \n",
        "#   when True we only update the reshaped layer params\n",
        "feature_extract = False"
      ],
      "execution_count": null,
      "outputs": []
    },
    {
      "cell_type": "code",
      "metadata": {
        "id": "7XVi9OZhEIns"
      },
      "source": [
        "\n",
        "def train_test_model(model, dataloaders, criterion, optimizer, num_epochs=25):\n",
        "    since = time.time()\n",
        "\n",
        "    val_acc_history = []\n",
        "    roc_auc_history=[]\n",
        "    roc_auc_score_history=[]\n",
        "    best_model_wts = copy.deepcopy(model.state_dict())\n",
        "    best_auc = 0.0\n",
        "    \n",
        "    for epoch in range(num_epochs):\n",
        "        print('Epoch {}/{}'.format(epoch, num_epochs - 1))\n",
        "        print('-' * 10)\n",
        "\n",
        "        # Each epoch has a training and validation phase\n",
        "        for phase in ['train', 'val']:\n",
        "            if phase == 'train':\n",
        "                model.train()  # Set model to training mode\n",
        "            else:\n",
        "                model.eval()   # Set model to evaluate mode\n",
        "\n",
        "            running_loss = 0.0\n",
        "            running_corrects = 0\n",
        "\n",
        "            # Iterate over data.\n",
        "            predictions=torch.cuda.FloatTensor([])\n",
        "            y_true=torch.cuda.FloatTensor([])\n",
        "            for batch_idx, sample in enumerate(dataloaders[phase]):\n",
        "                inputs, labels = sample # or something similar\n",
        "                inputs = inputs.to(device)\n",
        "                labels = labels.to(device)\n",
        "                # zero the parameter gradients\n",
        "                optimizer.zero_grad()\n",
        "\n",
        "                # forward\n",
        "                # track history if only in train\n",
        "                with torch.set_grad_enabled(phase == 'train'):\n",
        "                    # Get model outputs and calculate loss\n",
        "                    # Special case for inception because in training it has an auxiliary output. In train\n",
        "                    #   mode we calculate the loss by summing the final output and the auxiliary output\n",
        "                    #   but in testing we only consider the final output.\n",
        "                    outputs = model(inputs)\n",
        "                    \n",
        "                    loss = criterion(outputs, labels)\n",
        "\n",
        "                    _, preds = torch.max(outputs, 1)\n",
        "\n",
        "                    # backward + optimize only if in training phase\n",
        "                    if phase == 'train':\n",
        "                        loss.backward()\n",
        "                        optimizer.step()\n",
        "\n",
        "                # statistics\n",
        "                running_loss += loss.item() * inputs.size(0)\n",
        "                running_corrects += torch.sum(preds == labels.data)\n",
        "                predictions=torch.cat((predictions,preds))\n",
        "                y_true=torch.cat((y_true,labels.data))\n",
        "            epoch_loss = running_loss / len(dataloaders[phase].dataset)\n",
        "            epoch_acc = running_corrects.double() / len(dataloaders[phase].dataset)\n",
        "            print('{} Loss: {:.4f} Acc: {:.4f}'.format(phase, epoch_loss, epoch_acc))\n",
        "            \n",
        "            y_true = preprocessing.label_binarize(y_true.cpu(), classes=[0, 1,2])\n",
        "            y_pred=preprocessing.label_binarize(predictions.cpu(), classes=[0, 1,2])\n",
        "            roc_auc=roc_auc_score(y_true, y_pred, average=None)\n",
        "            macro_roc_auc_score=roc_auc_score(y_true, y_pred, average='macro')\n",
        "            print(\"per class:{}, macro_roc_auc_score:{}\".format(roc_auc,macro_roc_auc_score))\n",
        "\n",
        "            # deep copy the model\n",
        "            if phase == 'val' and macro_roc_auc_score > best_auc:\n",
        "                best_auc = macro_roc_auc_score\n",
        "                best_model_wts = copy.deepcopy(model.state_dict())\n",
        "            if phase == 'val':\n",
        "                val_acc_history.append(epoch_acc)\n",
        "                roc_auc_history.append(roc_auc)\n",
        "                roc_auc_score_history.append(macro_roc_auc_score)\n",
        "        print()\n",
        "\n",
        "    time_elapsed = time.time() - since\n",
        "    print('Training complete in {:.0f}m {:.0f}s'.format(time_elapsed // 60, time_elapsed % 60))\n",
        "    print('Best val AUC: {:4f}'.format(best_auc))\n",
        "\n",
        "    # load best model weights\n",
        "    model.load_state_dict(best_model_wts)\n",
        "    return model, val_acc_history,roc_auc_history, roc_auc_score_history\n",
        "#for ROC_AUC score\n",
        "def activated_output_transform(output):\n",
        "    y_pred, y = output\n",
        "    y_pred = torch.sigmoid(y_pred)\n",
        "    return y_pred, y"
      ],
      "execution_count": null,
      "outputs": []
    },
    {
      "cell_type": "code",
      "metadata": {
        "id": "B-dA6pa4EInt"
      },
      "source": [
        "\n",
        "def set_parameter_requires_grad(model, feature_extracting):\n",
        "    if feature_extracting:\n",
        "        for param in model.parameters():\n",
        "            param.requires_grad = False"
      ],
      "execution_count": null,
      "outputs": []
    },
    {
      "cell_type": "code",
      "metadata": {
        "id": "hmhjE6EzEInt"
      },
      "source": [
        "def initialize_model(model_name, num_classes, feature_extract, use_pretrained=True):\n",
        "    # Initialize these variables which will be set in this if statement. Each of these\n",
        "    #   variables is model specific.\n",
        "    model_ft = None\n",
        "    input_size = 0\n",
        "    if model_name == \"alexnet\":\n",
        "\n",
        "        model_ft = models.alexnet(pretrained=use_pretrained)\n",
        "        set_parameter_requires_grad(model_ft, feature_extract)\n",
        "        num_ftrs = model_ft.classifier[6].in_features\n",
        "        model_ft.classifier[6] = nn.Linear(num_ftrs,num_classes)\n",
        "        input_size = 224\n",
        "    else:\n",
        "        print(\"Invalid model name, exiting...\")\n",
        "        exit()\n",
        "    \n",
        "    return model_ft, input_size\n"
      ],
      "execution_count": null,
      "outputs": []
    },
    {
      "cell_type": "markdown",
      "metadata": {
        "id": "tkxBLbzjEInt"
      },
      "source": [
        "# Load data"
      ]
    },
    {
      "cell_type": "code",
      "metadata": {
        "id": "QEORzHmGEInt",
        "colab": {
          "base_uri": "https://localhost:8080/"
        },
        "outputId": "b9a391c8-6567-4272-eeba-17c169cbffbf"
      },
      "source": [
        "path = data_dir\n",
        "train_path=data_dir+\"train\"\n",
        "test_path=data_dir+\"test\"\n",
        "\n",
        "dataset=torchvision.datasets.ImageFolder(root=train_path,transform = transforms.Compose([\n",
        "        transforms.Resize((256,256)),\n",
        "        transforms.ToTensor(),\n",
        "        transforms.Normalize([0.485, 0.456, 0.406], [0.229, 0.224, 0.225]),\n",
        "    ]))\n",
        "\n",
        "testset=torchvision.datasets.ImageFolder(root=test_path,transform = transforms.Compose([\n",
        "        transforms.Resize((256,256)),\n",
        "        transforms.CenterCrop(224),\n",
        "        transforms.ToTensor(),\n",
        "        transforms.Normalize([0.485, 0.456, 0.406], [0.229, 0.224, 0.225]),\n",
        "    ]))\n",
        "\n",
        "print(dataset)\n",
        "print(testset)"
      ],
      "execution_count": null,
      "outputs": [
        {
          "output_type": "stream",
          "text": [
            "Dataset ImageFolder\n",
            "    Number of datapoints: 13958\n",
            "    Root location: dataset/preprocessed_data_cropped/train\n",
            "    StandardTransform\n",
            "Transform: Compose(\n",
            "               Resize(size=(256, 256), interpolation=PIL.Image.BILINEAR)\n",
            "               ToTensor()\n",
            "               Normalize(mean=[0.485, 0.456, 0.406], std=[0.229, 0.224, 0.225])\n",
            "           )\n",
            "Dataset ImageFolder\n",
            "    Number of datapoints: 1579\n",
            "    Root location: dataset/preprocessed_data_cropped/test\n",
            "    StandardTransform\n",
            "Transform: Compose(\n",
            "               Resize(size=(256, 256), interpolation=PIL.Image.BILINEAR)\n",
            "               CenterCrop(size=(224, 224))\n",
            "               ToTensor()\n",
            "               Normalize(mean=[0.485, 0.456, 0.406], std=[0.229, 0.224, 0.225])\n",
            "           )\n"
          ],
          "name": "stdout"
        }
      ]
    },
    {
      "cell_type": "code",
      "metadata": {
        "id": "pZ--wb8AEInu",
        "scrolled": true,
        "colab": {
          "base_uri": "https://localhost:8080/"
        },
        "outputId": "bdbed9c6-1cf1-4bd4-dfd2-4dc332313ade"
      },
      "source": [
        "\n",
        "#split into train and val sets\n",
        "train, val=torch.utils.data.random_split(dataset, [11958,2000], generator=torch.Generator().manual_seed(0))\n",
        "train.dataset = copy.copy(dataset)\n",
        "\n",
        "\n",
        "t=np.ones(len(train))\n",
        "for i in range(len(val)):\n",
        "    if train[i][1]==0:\n",
        "        t[i]=7966/517\n",
        "    elif train[i][1]==2:\n",
        "        t[i]=7966/5475\n",
        "train_sampler = torch.utils.data.sampler.WeightedRandomSampler(t, len(t),replacement=True)\n",
        "print(train_sampler)\n",
        "\n",
        "\n",
        "val.dataset.transform = transforms.Compose([\n",
        "        transforms.Resize((256,256)),\n",
        "        transforms.CenterCrop(224),\n",
        "        transforms.ToTensor(),\n",
        "        transforms.Normalize([0.485, 0.456, 0.406], [0.229, 0.224, 0.225]),\n",
        "])\n",
        "\n",
        "train.dataset.transform = transforms.Compose([ #only transforms for training set\n",
        "        transforms.Resize((256,256)),        \n",
        "        transforms.RandomHorizontalFlip(p=0.5),#random horizontal flip\n",
        "        transforms.RandomAffine((-5,5), translate=(0.1,0.1), scale=None, shear=None, resample=0, fillcolor=0),#random translation[-5,5]\n",
        "        transforms.RandomRotation((-5,5), resample=False, expand=False),#random rotation [-5,5]\n",
        "        transforms.RandomCrop(224),\n",
        "        transforms.ToTensor(),\n",
        "        transforms.Normalize([0.485, 0.456, 0.406], [0.229, 0.224, 0.225]),\n",
        "    ])\n",
        "\n",
        "training = torch.utils.data.DataLoader(train, batch_size=64,sampler=train_sampler)#add sampler if oversample\n",
        "val = torch.utils.data.DataLoader(val, batch_size=64,shuffle=True)\n",
        "\n",
        "dataloaders_dict={'train':training,'val':val}\n",
        "testing=torch.utils.data.DataLoader(testset, batch_size=1,shuffle=True)\n"
      ],
      "execution_count": null,
      "outputs": [
        {
          "output_type": "stream",
          "text": [
            "covid83,normal1157,pneumonia760\n",
            "<torch.utils.data.sampler.WeightedRandomSampler object at 0x7f4fc1201ba8>\n"
          ],
          "name": "stdout"
        }
      ]
    },
    {
      "cell_type": "code",
      "metadata": {
        "id": "Eott-ifynmrN"
      },
      "source": [
        ""
      ],
      "execution_count": null,
      "outputs": []
    },
    {
      "cell_type": "markdown",
      "metadata": {
        "id": "x9YlkM2zEInu"
      },
      "source": [
        "# Optimizer, choose which weights to update"
      ]
    },
    {
      "cell_type": "code",
      "metadata": {
        "id": "sqazwevlEInv",
        "colab": {
          "base_uri": "https://localhost:8080/"
        },
        "outputId": "0f8bc820-1b94-4963-dd4f-e895b11b1795"
      },
      "source": [
        "# Initialize the model for this run\n",
        "model_ft, input_size = initialize_model(model_name, num_classes, feature_extract, use_pretrained=True)\n",
        "\n",
        "# Print the model we just instantiated\n",
        "print(model_ft)"
      ],
      "execution_count": null,
      "outputs": [
        {
          "output_type": "stream",
          "text": [
            "AlexNet(\n",
            "  (features): Sequential(\n",
            "    (0): Conv2d(3, 64, kernel_size=(11, 11), stride=(4, 4), padding=(2, 2))\n",
            "    (1): ReLU(inplace=True)\n",
            "    (2): MaxPool2d(kernel_size=3, stride=2, padding=0, dilation=1, ceil_mode=False)\n",
            "    (3): Conv2d(64, 192, kernel_size=(5, 5), stride=(1, 1), padding=(2, 2))\n",
            "    (4): ReLU(inplace=True)\n",
            "    (5): MaxPool2d(kernel_size=3, stride=2, padding=0, dilation=1, ceil_mode=False)\n",
            "    (6): Conv2d(192, 384, kernel_size=(3, 3), stride=(1, 1), padding=(1, 1))\n",
            "    (7): ReLU(inplace=True)\n",
            "    (8): Conv2d(384, 256, kernel_size=(3, 3), stride=(1, 1), padding=(1, 1))\n",
            "    (9): ReLU(inplace=True)\n",
            "    (10): Conv2d(256, 256, kernel_size=(3, 3), stride=(1, 1), padding=(1, 1))\n",
            "    (11): ReLU(inplace=True)\n",
            "    (12): MaxPool2d(kernel_size=3, stride=2, padding=0, dilation=1, ceil_mode=False)\n",
            "  )\n",
            "  (avgpool): AdaptiveAvgPool2d(output_size=(6, 6))\n",
            "  (classifier): Sequential(\n",
            "    (0): Dropout(p=0.5, inplace=False)\n",
            "    (1): Linear(in_features=9216, out_features=4096, bias=True)\n",
            "    (2): ReLU(inplace=True)\n",
            "    (3): Dropout(p=0.5, inplace=False)\n",
            "    (4): Linear(in_features=4096, out_features=4096, bias=True)\n",
            "    (5): ReLU(inplace=True)\n",
            "    (6): Linear(in_features=4096, out_features=3, bias=True)\n",
            "  )\n",
            ")\n"
          ],
          "name": "stdout"
        }
      ]
    },
    {
      "cell_type": "code",
      "metadata": {
        "id": "dtWZJY8IEInv",
        "scrolled": true,
        "colab": {
          "base_uri": "https://localhost:8080/"
        },
        "outputId": "3c32754f-254d-4bb4-8252-c7e8a7239a14"
      },
      "source": [
        "# Send the model to GPU\n",
        "device = torch.device(\"cuda:0\" if torch.cuda.is_available() else \"cpu\")\n",
        "model_ft = model_ft.to(device)\n",
        "\n",
        "# Gather the parameters to be optimized/updated in this run. If we are\n",
        "#  finetuning we will be updating all parameters. However, if we are \n",
        "#  doing feature extract method, we will only update the parameters\n",
        "#  that we have just initialized, i.e. the parameters with requires_grad\n",
        "#  is True.\n",
        "params_to_update = []\n",
        "last_layer=[]\n",
        "print(\"Params to learn:\")\n",
        "if feature_extract:\n",
        "    params_to_update = []\n",
        "    for name,param in model_ft.named_parameters():\n",
        "        if param.requires_grad == True:\n",
        "              params_to_update.append(param)\n",
        "              print(\"\\t\",name)\n",
        "else:\n",
        "    for name,param in model_ft.named_parameters():\n",
        "        if param.requires_grad == True and name!='classifier.6.weight' and name!='classifier.6.bias':\n",
        "            params_to_update.append(param)\n",
        "            print(\"\\t\",name)\n",
        "        else:\n",
        "            last_layer.append(param)\n",
        "            print('last layer:', name)\n",
        "# Observe that all parameters are being optimized\n",
        "#optimizer_ft = optim.SGD([{'params':params_to_update}, {'params': last_layer, 'lr': 0.0002}], lr=0.0001, momentum=0.9)\n",
        "optimizer_ft = optim.SGD([{'params':params_to_update}, {'params': last_layer, 'lr': 0.0002}], lr=0.0001, momentum=0.9)"
      ],
      "execution_count": null,
      "outputs": [
        {
          "output_type": "stream",
          "text": [
            "Params to learn:\n",
            "\t features.0.weight\n",
            "\t features.0.bias\n",
            "\t features.3.weight\n",
            "\t features.3.bias\n",
            "\t features.6.weight\n",
            "\t features.6.bias\n",
            "\t features.8.weight\n",
            "\t features.8.bias\n",
            "\t features.10.weight\n",
            "\t features.10.bias\n",
            "\t classifier.1.weight\n",
            "\t classifier.1.bias\n",
            "\t classifier.4.weight\n",
            "\t classifier.4.bias\n",
            "last layer: classifier.6.weight\n",
            "last layer: classifier.6.bias\n"
          ],
          "name": "stdout"
        }
      ]
    },
    {
      "cell_type": "code",
      "metadata": {
        "id": "tFJ9iiaNVx2q",
        "scrolled": false,
        "colab": {
          "base_uri": "https://localhost:8080/"
        },
        "outputId": "a4972527-ca41-4672-873e-464f9ab4241c"
      },
      "source": [
        "print(optimizer_ft)"
      ],
      "execution_count": null,
      "outputs": [
        {
          "output_type": "stream",
          "text": [
            "SGD (\n",
            "Parameter Group 0\n",
            "    dampening: 0\n",
            "    lr: 0.0001\n",
            "    momentum: 0.9\n",
            "    nesterov: False\n",
            "    weight_decay: 0\n",
            "\n",
            "Parameter Group 1\n",
            "    dampening: 0\n",
            "    lr: 0.0002\n",
            "    momentum: 0.9\n",
            "    nesterov: False\n",
            "    weight_decay: 0\n",
            ")\n"
          ],
          "name": "stdout"
        }
      ]
    },
    {
      "cell_type": "markdown",
      "metadata": {
        "id": "-Qe20Fw1EInv"
      },
      "source": [
        "# Training and validate"
      ]
    },
    {
      "cell_type": "code",
      "metadata": {
        "id": "95stG2k1EInv",
        "scrolled": true,
        "colab": {
          "base_uri": "https://localhost:8080/"
        },
        "outputId": "6c8c840c-4ba9-4905-f046-b25d04f6aea8"
      },
      "source": [
        "\n",
        "# Setup the loss fxn\n",
        "#assign weights to each label, for imbalanced task\n",
        "#covid: 617\n",
        "#normal: 8851\n",
        "#pneumonia: 6069\n",
        "\n",
        "weights = [1,1,1] #maybe change weights, covid seems to be overfitting\n",
        "class_weights = torch.cuda.FloatTensor(weights)\n",
        "criterion = nn.CrossEntropyLoss(weight=class_weights)#add class imbalance arg\n",
        "model_ft, hist, roc_auc_hist, roc_auc_score_history = train_test_model(model_ft, dataloaders_dict, criterion, optimizer_ft, num_epochs=num_epochs)\n",
        "#{'COVID-19': 0, 'normal': 1, 'pneumonia': 2}"
      ],
      "execution_count": null,
      "outputs": [
        {
          "output_type": "stream",
          "text": [
            "Epoch 0/19\n",
            "----------\n",
            "train Loss: 0.6695 Acc: 0.7187\n",
            "per class:[0.77752208 0.8194203  0.76810662], macro_roc_auc_score:0.7883496682157807\n",
            "val Loss: 0.3213 Acc: 0.8820\n",
            "per class:[0.80209017 0.88649565 0.87188956], macro_roc_auc_score:0.8534917933567305\n",
            "\n",
            "Epoch 1/19\n",
            "----------\n",
            "train Loss: 0.5004 Acc: 0.8043\n",
            "per class:[0.8472728  0.88400929 0.82826584], macro_roc_auc_score:0.8531826451336966\n",
            "val Loss: 0.2957 Acc: 0.8950\n",
            "per class:[0.83811028 0.90522965 0.89159718], macro_roc_auc_score:0.8783123659921909\n",
            "\n",
            "Epoch 2/19\n",
            "----------\n",
            "train Loss: 0.4687 Acc: 0.8179\n",
            "per class:[0.86237756 0.89063207 0.83676284], macro_roc_auc_score:0.8632574910334098\n",
            "val Loss: 0.2815 Acc: 0.9005\n",
            "per class:[0.83888627 0.90987486 0.89721335], macro_roc_auc_score:0.881991495662084\n",
            "\n",
            "Epoch 3/19\n",
            "----------\n",
            "train Loss: 0.4181 Acc: 0.8402\n",
            "per class:[0.88901712 0.89660439 0.8544975 ], macro_roc_auc_score:0.8800396717457462\n",
            "val Loss: 0.2773 Acc: 0.8995\n",
            "per class:[0.87464771 0.90752453 0.89349872], macro_roc_auc_score:0.8918903219095938\n",
            "\n",
            "Epoch 4/19\n",
            "----------\n",
            "train Loss: 0.4006 Acc: 0.8425\n",
            "per class:[0.88703229 0.90210298 0.85698356], macro_roc_auc_score:0.88203961322281\n",
            "val Loss: 0.2641 Acc: 0.9030\n",
            "per class:[0.86873702 0.90907514 0.89868713], macro_roc_auc_score:0.892166429060883\n",
            "\n",
            "Epoch 5/19\n",
            "----------\n",
            "train Loss: 0.3800 Acc: 0.8507\n",
            "per class:[0.89691387 0.90158627 0.8657858 ], macro_roc_auc_score:0.8880953141158162\n",
            "val Loss: 0.2577 Acc: 0.9085\n",
            "per class:[0.86256766 0.91322943 0.90202603], macro_roc_auc_score:0.892607705672097\n",
            "\n",
            "Epoch 6/19\n",
            "----------\n",
            "train Loss: 0.3655 Acc: 0.8597\n",
            "per class:[0.90612473 0.9062526  0.87182284], macro_roc_auc_score:0.8947333933688747\n",
            "val Loss: 0.2706 Acc: 0.9065\n",
            "per class:[0.89858776 0.91936065 0.90631206], macro_roc_auc_score:0.908086823582075\n",
            "\n",
            "Epoch 7/19\n",
            "----------\n",
            "train Loss: 0.3434 Acc: 0.8670\n",
            "per class:[0.91276462 0.91346519 0.87462915], macro_roc_auc_score:0.9002863188667641\n",
            "val Loss: 0.2642 Acc: 0.9060\n",
            "per class:[0.90449846 0.91291402 0.89457075], macro_roc_auc_score:0.9039944095984992\n",
            "\n",
            "Epoch 8/19\n",
            "----------\n",
            "train Loss: 0.3482 Acc: 0.8670\n",
            "per class:[0.91631725 0.91056705 0.87347478], macro_roc_auc_score:0.9001196943815185\n",
            "val Loss: 0.2595 Acc: 0.9055\n",
            "per class:[0.88931442 0.91340494 0.89726019], macro_roc_auc_score:0.8999931839364256\n",
            "\n",
            "Epoch 9/19\n",
            "----------\n",
            "train Loss: 0.3407 Acc: 0.8709\n",
            "per class:[0.92101409 0.9124195  0.87581139], macro_roc_auc_score:0.9030816615559378\n",
            "val Loss: 0.2649 Acc: 0.9095\n",
            "per class:[0.91247848 0.92227974 0.90965096], macro_roc_auc_score:0.9148030584926031\n",
            "\n",
            "Epoch 10/19\n",
            "----------\n",
            "train Loss: 0.3159 Acc: 0.8796\n",
            "per class:[0.93066289 0.91475707 0.88354356], macro_roc_auc_score:0.9096545043686127\n",
            "val Loss: 0.2605 Acc: 0.9070\n",
            "per class:[0.91092649 0.92174659 0.90612679], macro_roc_auc_score:0.912933291054108\n",
            "\n",
            "Epoch 11/19\n",
            "----------\n",
            "train Loss: 0.2983 Acc: 0.8848\n",
            "per class:[0.93312419 0.92146993 0.88562214], macro_roc_auc_score:0.9134054189144704\n",
            "val Loss: 0.2502 Acc: 0.9080\n",
            "per class:[0.89112508 0.91687041 0.90490073], macro_roc_auc_score:0.904298739828392\n",
            "\n",
            "Epoch 12/19\n",
            "----------\n",
            "train Loss: 0.2959 Acc: 0.8893\n",
            "per class:[0.93799888 0.92141839 0.89164535], macro_roc_auc_score:0.9170208699632111\n",
            "val Loss: 0.2428 Acc: 0.9135\n",
            "per class:[0.89112508 0.92110915 0.90721964], macro_roc_auc_score:0.9064846236966871\n",
            "\n",
            "Epoch 13/19\n",
            "----------\n",
            "train Loss: 0.2943 Acc: 0.8858\n",
            "per class:[0.93752441 0.91784157 0.88799257], macro_roc_auc_score:0.9144528510273803\n",
            "val Loss: 0.2519 Acc: 0.9115\n",
            "per class:[0.88521438 0.9222309  0.90944488], macro_roc_auc_score:0.9056300549478197\n",
            "\n",
            "Epoch 14/19\n",
            "----------\n",
            "train Loss: 0.2928 Acc: 0.8891\n",
            "per class:[0.93831995 0.92045142 0.89117847], macro_roc_auc_score:0.9166499472354573\n",
            "val Loss: 0.2497 Acc: 0.9110\n",
            "per class:[0.89884643 0.9225397  0.90841448], macro_roc_auc_score:0.9099335384055921\n",
            "\n",
            "Epoch 15/19\n",
            "----------\n",
            "train Loss: 0.2895 Acc: 0.8887\n",
            "per class:[0.93754002 0.92197619 0.89040339], macro_roc_auc_score:0.9166398657391869\n",
            "val Loss: 0.2440 Acc: 0.9155\n",
            "per class:[0.8924184  0.9237749  0.91341762], macro_roc_auc_score:0.9098703100815478\n",
            "\n",
            "Epoch 16/19\n",
            "----------\n",
            "train Loss: 0.2782 Acc: 0.8981\n",
            "per class:[0.94572392 0.92699651 0.89769145], macro_roc_auc_score:0.9234706285918183\n",
            "val Loss: 0.2376 Acc: 0.9155\n",
            "per class:[0.89138374 0.92203555 0.90847693], macro_roc_auc_score:0.90729874170716\n",
            "\n",
            "Epoch 17/19\n",
            "----------\n",
            "train Loss: 0.2681 Acc: 0.9012\n",
            "per class:[0.94959078 0.92630633 0.90190958], macro_roc_auc_score:0.9259355613212649\n",
            "val Loss: 0.2387 Acc: 0.9175\n",
            "per class:[0.88495572 0.92629413 0.91425755], macro_roc_auc_score:0.9085024682621676\n",
            "\n",
            "Epoch 18/19\n",
            "----------\n",
            "train Loss: 0.2732 Acc: 0.8985\n",
            "per class:[0.9506675  0.92496112 0.89563109], macro_roc_auc_score:0.923753239098207\n",
            "val Loss: 0.2404 Acc: 0.9185\n",
            "per class:[0.90553312 0.92588766 0.91284102], macro_roc_auc_score:0.9147539327203079\n",
            "\n",
            "Epoch 19/19\n",
            "----------\n",
            "train Loss: 0.2703 Acc: 0.9017\n",
            "per class:[0.95229733 0.92661439 0.89993128], macro_roc_auc_score:0.926281002015032\n",
            "val Loss: 0.2323 Acc: 0.9190\n",
            "per class:[0.8777517  0.92739604 0.91406188], macro_roc_auc_score:0.9064032074308132\n",
            "\n",
            "Training complete in 27m 7s\n",
            "Best val AUC: 0.914803\n"
          ],
          "name": "stdout"
        }
      ]
    },
    {
      "cell_type": "code",
      "metadata": {
        "id": "NAeGh43dngst",
        "colab": {
          "base_uri": "https://localhost:8080/",
          "height": 544
        },
        "outputId": "bbe592cd-4ab8-493b-bbe9-1194f35bf400"
      },
      "source": [
        "#plot history\n",
        "roc_auc_hist=np.array(roc_auc_hist)\n",
        "plt.title('overall accuracy per epoch')\n",
        "plt.plot(roc_auc_score_history,label='macro roc_auc')\n",
        "plt.plot(hist,label='accuracy')\n",
        "plt.legend()\n",
        "plt.show()\n",
        "\n",
        "plt.title('1-vs-rest roc_auc score per epoch')\n",
        "plt.plot(roc_auc_hist[:,0],label='covid')\n",
        "plt.plot(roc_auc_hist[:,1],label='normal')\n",
        "plt.plot(roc_auc_hist[:,2],label='pneumonia')\n",
        "\n",
        "plt.legend()\n",
        "plt.show()"
      ],
      "execution_count": null,
      "outputs": [
        {
          "output_type": "display_data",
          "data": {
            "image/png": "[encoded data removed]",
            "text/plain": [
              "<Figure size 432x288 with 1 Axes>"
            ]
          },
          "metadata": {
            "tags": [],
            "needs_background": "light"
          }
        },
        {
          "output_type": "display_data",
          "data": {
            "image/png": "[encoded data removed]",
            "text/plain": [
              "<Figure size 432x288 with 1 Axes>"
            ]
          },
          "metadata": {
            "tags": [],
            "needs_background": "light"
          }
        }
      ]
    },
    {
      "cell_type": "code",
      "metadata": {
        "id": "w3E0MKCb7yAw",
        "colab": {
          "base_uri": "https://localhost:8080/"
        },
        "outputId": "0b556d86-6cc0-49a6-8d2e-ec066d8cca47"
      },
      "source": [
        "running_loss = 0.0\n",
        "running_corrects = 0\n",
        "predictions=torch.tensor([])\n",
        "y_true=torch.tensor([])\n",
        "for batch_idx, sample in enumerate(testing):\n",
        "    inputs, labels = sample # or something similar\n",
        "    inputs = inputs.to(device)\n",
        "    labels = labels.to(device)\n",
        "\n",
        "\n",
        "    # forward\n",
        "\n",
        "    outputs = model_ft(inputs)\n",
        "\n",
        "    loss = criterion(outputs, labels)\n",
        "\n",
        "    _, preds = torch.max(outputs, 1)\n",
        "\n",
        "    # statistics\n",
        "    running_loss += loss.item() * inputs.size(0)\n",
        "    running_corrects += torch.sum(preds == labels.data)\n",
        "    predictions=torch.cat((predictions.cpu(),preds.cpu()))\n",
        "    y_true=torch.cat((y_true.cpu(),labels.data.cpu()))\n",
        "epoch_loss = running_loss / len(testing.dataset)\n",
        "epoch_acc = running_corrects.double() / len(testing.dataset)\n",
        "print('Loss: {:.4f} Acc: {:.4f}'.format(epoch_loss, epoch_acc))\n",
        "print (confusion_matrix(y_true, predictions))\n",
        "y = preprocessing.label_binarize(y_true, classes=[0, 1,2])\n",
        "y_pred=preprocessing.label_binarize(predictions, classes=[0, 1,2])\n",
        "roc_auc=roc_auc_score(y, y_pred, average=None)\n",
        "macro_roc_auc_score=roc_auc_score(y, y_pred, average='macro')\n",
        "print(\"per class:{}, macro_roc_auc_score:{}\".format(roc_auc,macro_roc_auc_score))\n"
      ],
      "execution_count": null,
      "outputs": [
        {
          "output_type": "stream",
          "text": [
            "Loss: 0.2858 Acc: 0.9044\n",
            "[[ 71   6  23]\n",
            " [  6 805  74]\n",
            " [  8  34 552]]\n",
            "per class:[0.85026707 0.92598382 0.91540789], macro_roc_auc_score:0.8972195914651375\n"
          ],
          "name": "stdout"
        }
      ]
    },
    {
      "cell_type": "code",
      "metadata": {
        "id": "8fV6gzTpngsu"
      },
      "source": [
        " "
      ],
      "execution_count": null,
      "outputs": []
    }
  ]
}