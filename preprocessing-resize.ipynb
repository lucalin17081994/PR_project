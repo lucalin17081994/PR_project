{
 "cells": [
  {
   "cell_type": "code",
   "execution_count": 25,
   "metadata": {},
   "outputs": [
    {
     "name": "stdout",
     "output_type": "stream",
     "text": [
      "PyTorch Version:  1.6.0\n",
      "Torchvision Version:  0.7.0\n"
     ]
    }
   ],
   "source": [
    "from __future__ import print_function \n",
    "from __future__ import division\n",
    "import torch\n",
    "import torch.nn as nn\n",
    "import torch.optim as optim\n",
    "import numpy as np\n",
    "import torchvision\n",
    "from torchvision import datasets, models, transforms\n",
    "import matplotlib.pyplot as plt\n",
    "import time\n",
    "import os\n",
    "import copy\n",
    "import os\n",
    "from PIL import Image\n",
    "import cv2\n",
    "import matplotlib.pyplot as plt\n",
    "print(\"PyTorch Version: \",torch.__version__)\n",
    "print(\"Torchvision Version: \",torchvision.__version__)\n",
    "data_dir = \"../3360gan/\"\n",
    "target_dir=\"../224_gan_topcropped/\""
   ]
  },
  {
   "cell_type": "code",
   "execution_count": 26,
   "metadata": {},
   "outputs": [],
   "source": [
    "folder_name=''\n",
    "train_path=data_dir\n",
    "\n",
    "for filename in os.listdir(train_path):\n",
    "    img=np.array(Image.open(train_path+filename))\n",
    "    crop_img = img[35:256, 0:256].copy()\n",
    "    #resized = cv2.resize(crop_img, (270,270), interpolation = cv2.INTER_AREA)\n",
    "    \n",
    "    if len(resized.shape)>2:\n",
    "        gray = cv2.cvtColor(crop_img, cv2.COLOR_BGR2GRAY)\n",
    "    else:\n",
    "        gray=crop_img\n",
    "    PIL_image = Image.fromarray(np.uint8(gray))\n",
    "    PIL_image.save(target_dir+filename)"
   ]
  },
  {
   "cell_type": "markdown",
   "metadata": {},
   "source": [
    "# PREPROCESS TRAIN SET\n"
   ]
  },
  {
   "cell_type": "code",
   "execution_count": 8,
   "metadata": {},
   "outputs": [],
   "source": [
    "folder_name='COVID-19/'\n",
    "train_path=data_dir+\"train/\"+folder_name\n",
    "\n",
    "for filename in os.listdir(train_path):\n",
    "    img=np.array(Image.open(train_path+filename))\n",
    "    resized = cv2.resize(img, (700,700), interpolation = cv2.INTER_AREA)\n",
    "    \n",
    "    if len(resized.shape)>2:\n",
    "        gray = cv2.cvtColor(resized, cv2.COLOR_BGR2GRAY)\n",
    "    else:\n",
    "        gray=resized\n",
    "    crop_img = gray[140:700, 0:700].copy()\n",
    "    res = cv2.resize(crop_img, (512,512), interpolation = cv2.INTER_AREA)\n",
    "    backtorgb = cv2.cvtColor(res,cv2.COLOR_GRAY2RGB)\n",
    "    PIL_image = Image.fromarray(np.uint8(backtorgb))\n",
    "    PIL_image.save(target_dir+folder_name+filename)"
   ]
  },
  {
   "cell_type": "code",
   "execution_count": 3,
   "metadata": {},
   "outputs": [],
   "source": [
    "folder_name='pneumonia/'\n",
    "train_path=data_dir+\"train/\"+folder_name\n",
    "\n",
    "for filename in os.listdir(train_path):\n",
    "    img=np.array(Image.open(train_path+filename))\n",
    "    resized = cv2.resize(img, (512,512), interpolation = cv2.INTER_AREA)\n",
    "    if len(resized.shape)>2:\n",
    "        gray = cv2.cvtColor(resized, cv2.COLOR_BGR2GRAY)\n",
    "    else:\n",
    "        gray=resized\n",
    "    PIL_image = Image.fromarray(np.uint8(gray))\n",
    "    PIL_image.save(target_dir+\"train/\"+folder_name+filename)"
   ]
  },
  {
   "cell_type": "code",
   "execution_count": 4,
   "metadata": {},
   "outputs": [],
   "source": [
    "folder_name='normal/'\n",
    "train_path=data_dir+\"train/\"+folder_name\n",
    "\n",
    "for filename in os.listdir(train_path):\n",
    "    img=np.array(Image.open(train_path+filename))\n",
    "    resized = cv2.resize(img, (512,512), interpolation = cv2.INTER_AREA)\n",
    "    if len(resized.shape)>2:\n",
    "        gray = cv2.cvtColor(resized, cv2.COLOR_BGR2GRAY)\n",
    "    else:\n",
    "        gray=resized\n",
    "    PIL_image = Image.fromarray(np.uint8(gray))\n",
    "    PIL_image.save(target_dir+\"train/\"+folder_name+filename)"
   ]
  },
  {
   "cell_type": "code",
   "execution_count": null,
   "metadata": {},
   "outputs": [],
   "source": []
  }
 ],
 "metadata": {
  "kernelspec": {
   "display_name": "Python 3",
   "language": "python",
   "name": "python3"
  },
  "language_info": {
   "codemirror_mode": {
    "name": "ipython",
    "version": 3
   },
   "file_extension": ".py",
   "mimetype": "text/x-python",
   "name": "python",
   "nbconvert_exporter": "python",
   "pygments_lexer": "ipython3",
   "version": "3.7.6"
  }
 },
 "nbformat": 4,
 "nbformat_minor": 4
}
