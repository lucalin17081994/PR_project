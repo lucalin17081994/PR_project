{
 "cells": [
  {
   "cell_type": "code",
   "execution_count": 1,
   "metadata": {},
   "outputs": [
    {
     "name": "stdout",
     "output_type": "stream",
     "text": [
      "PyTorch Version:  1.6.0\n",
      "Torchvision Version:  0.7.0\n"
     ]
    }
   ],
   "source": [
    "from __future__ import print_function \n",
    "from __future__ import division\n",
    "import torch\n",
    "import torch.nn as nn\n",
    "import torch.optim as optim\n",
    "import numpy as np\n",
    "import torchvision\n",
    "from torchvision import datasets, models, transforms\n",
    "import matplotlib.pyplot as plt\n",
    "import time\n",
    "import os\n",
    "import copy\n",
    "import os\n",
    "from PIL import Image\n",
    "import cv2\n",
    "import matplotlib.pyplot as plt\n",
    "print(\"PyTorch Version: \",torch.__version__)\n",
    "print(\"Torchvision Version: \",torchvision.__version__)\n",
    "data_dir = \"data/\"\n",
    "target_dir=\"preprocessed_data_cropped_witheval/\""
   ]
  },
  {
   "cell_type": "markdown",
   "metadata": {},
   "source": [
    "# PREPROCESS TRAIN SET\n"
   ]
  },
  {
   "cell_type": "code",
   "execution_count": 2,
   "metadata": {},
   "outputs": [],
   "source": [
    "folder_name='COVID-19/'\n",
    "#517\n",
    "train_path=data_dir+\"train/\"+folder_name\n",
    "i=0\n",
    "for filename in os.listdir(train_path):\n",
    "    if i<104:\n",
    "        img=np.array(Image.open(train_path+filename))\n",
    "        resized = cv2.resize(img, (360,360), interpolation = cv2.INTER_AREA)\n",
    "        if len(resized.shape)>2:\n",
    "            gray = cv2.cvtColor(resized, cv2.COLOR_BGR2GRAY)\n",
    "        else:\n",
    "            gray=resized\n",
    "        crop_img = gray[50:360, 0:360].copy()\n",
    "        PIL_image = Image.fromarray(np.uint8(crop_img))\n",
    "        PIL_image.save(target_dir+\"eval/\"+folder_name+filename)\n",
    "        i+=1\n",
    "    else:\n",
    "        for j in range(15):\n",
    "            img=np.array(Image.open(train_path+filename))\n",
    "            resized = cv2.resize(img, (360,360), interpolation = cv2.INTER_AREA)\n",
    "            if len(resized.shape)>2:\n",
    "                gray = cv2.cvtColor(resized, cv2.COLOR_BGR2GRAY)\n",
    "            else:\n",
    "                gray=resized\n",
    "            crop_img = gray[50:360, 0:360].copy()\n",
    "            PIL_image = Image.fromarray(np.uint8(crop_img))\n",
    "            PIL_image.save(target_dir+\"train/\"+folder_name+str(j)+\"_\"+filename)\n"
   ]
  },
  {
   "cell_type": "code",
   "execution_count": 3,
   "metadata": {},
   "outputs": [],
   "source": [
    "folder_name='pneumonia/'\n",
    "#5475\n",
    "train_path=data_dir+\"train/\"+folder_name\n",
    "i=0\n",
    "for filename in os.listdir(train_path):\n",
    "    if i<1095:\n",
    "        img=np.array(Image.open(train_path+filename))\n",
    "        resized = cv2.resize(img, (360,360), interpolation = cv2.INTER_AREA)\n",
    "\n",
    "        if len(resized.shape)>2:\n",
    "                gray = cv2.cvtColor(resized, cv2.COLOR_BGR2GRAY)\n",
    "        else:\n",
    "            gray=resized\n",
    "        crop_img = gray[50:360, 0:360].copy()\n",
    "        PIL_image = Image.fromarray(np.uint8(crop_img))\n",
    "        PIL_image.save(target_dir+\"eval/\"+folder_name+filename)\n",
    "    else:\n",
    "        img=np.array(Image.open(train_path+filename))\n",
    "        resized = cv2.resize(img, (360,360), interpolation = cv2.INTER_AREA)\n",
    "\n",
    "        if len(resized.shape)>2:\n",
    "                gray = cv2.cvtColor(resized, cv2.COLOR_BGR2GRAY)\n",
    "        else:\n",
    "            gray=resized\n",
    "        crop_img = gray[50:360, 0:360].copy()\n",
    "        PIL_image = Image.fromarray(np.uint8(crop_img))\n",
    "        PIL_image.save(target_dir+\"train/\"+folder_name+filename)"
   ]
  },
  {
   "cell_type": "code",
   "execution_count": 4,
   "metadata": {},
   "outputs": [
    {
     "ename": "TypeError",
     "evalue": "Expected Ptr<cv::UMat> for argument 'src'",
     "output_type": "error",
     "traceback": [
      "\u001b[1;31m---------------------------------------------------------------------------\u001b[0m",
      "\u001b[1;31mTypeError\u001b[0m                                 Traceback (most recent call last)",
      "\u001b[1;32m<ipython-input-4-9c43ed341a92>\u001b[0m in \u001b[0;36m<module>\u001b[1;34m\u001b[0m\n\u001b[0;32m      6\u001b[0m     \u001b[1;32mif\u001b[0m \u001b[0mi\u001b[0m\u001b[1;33m<\u001b[0m\u001b[1;36m1593\u001b[0m\u001b[1;33m:\u001b[0m\u001b[1;33m\u001b[0m\u001b[1;33m\u001b[0m\u001b[0m\n\u001b[0;32m      7\u001b[0m         \u001b[0mimg\u001b[0m\u001b[1;33m=\u001b[0m\u001b[0mnp\u001b[0m\u001b[1;33m.\u001b[0m\u001b[0marray\u001b[0m\u001b[1;33m(\u001b[0m\u001b[0mImage\u001b[0m\u001b[1;33m.\u001b[0m\u001b[0mopen\u001b[0m\u001b[1;33m(\u001b[0m\u001b[0mtrain_path\u001b[0m\u001b[1;33m+\u001b[0m\u001b[0mfilename\u001b[0m\u001b[1;33m)\u001b[0m\u001b[1;33m)\u001b[0m\u001b[1;33m\u001b[0m\u001b[1;33m\u001b[0m\u001b[0m\n\u001b[1;32m----> 8\u001b[1;33m         \u001b[0mresized\u001b[0m \u001b[1;33m=\u001b[0m \u001b[0mcv2\u001b[0m\u001b[1;33m.\u001b[0m\u001b[0mresize\u001b[0m\u001b[1;33m(\u001b[0m\u001b[0mimg\u001b[0m\u001b[1;33m,\u001b[0m \u001b[1;33m(\u001b[0m\u001b[1;36m360\u001b[0m\u001b[1;33m,\u001b[0m\u001b[1;36m360\u001b[0m\u001b[1;33m)\u001b[0m\u001b[1;33m,\u001b[0m \u001b[0minterpolation\u001b[0m \u001b[1;33m=\u001b[0m \u001b[0mcv2\u001b[0m\u001b[1;33m.\u001b[0m\u001b[0mINTER_AREA\u001b[0m\u001b[1;33m)\u001b[0m\u001b[1;33m\u001b[0m\u001b[1;33m\u001b[0m\u001b[0m\n\u001b[0m\u001b[0;32m      9\u001b[0m         \u001b[1;32mif\u001b[0m \u001b[0mlen\u001b[0m\u001b[1;33m(\u001b[0m\u001b[0mresized\u001b[0m\u001b[1;33m.\u001b[0m\u001b[0mshape\u001b[0m\u001b[1;33m)\u001b[0m\u001b[1;33m>\u001b[0m\u001b[1;36m2\u001b[0m\u001b[1;33m:\u001b[0m\u001b[1;33m\u001b[0m\u001b[1;33m\u001b[0m\u001b[0m\n\u001b[0;32m     10\u001b[0m                 \u001b[0mgray\u001b[0m \u001b[1;33m=\u001b[0m \u001b[0mcv2\u001b[0m\u001b[1;33m.\u001b[0m\u001b[0mcvtColor\u001b[0m\u001b[1;33m(\u001b[0m\u001b[0mresized\u001b[0m\u001b[1;33m,\u001b[0m \u001b[0mcv2\u001b[0m\u001b[1;33m.\u001b[0m\u001b[0mCOLOR_BGR2GRAY\u001b[0m\u001b[1;33m)\u001b[0m\u001b[1;33m\u001b[0m\u001b[1;33m\u001b[0m\u001b[0m\n",
      "\u001b[1;31mTypeError\u001b[0m: Expected Ptr<cv::UMat> for argument 'src'"
     ]
    }
   ],
   "source": [
    "folder_name='normal/'\n",
    "#7966\n",
    "train_path=data_dir+\"train/\"+folder_name\n",
    "i=0\n",
    "for filename in os.listdir(train_path):\n",
    "    if i<1593:\n",
    "        img=np.array(Image.open(train_path+filename))\n",
    "        resized = cv2.resize(img, (360,360), interpolation = cv2.INTER_AREA)\n",
    "        if len(resized.shape)>2:\n",
    "                gray = cv2.cvtColor(resized, cv2.COLOR_BGR2GRAY)\n",
    "        else:\n",
    "            gray=resized\n",
    "        crop_img = gray[50:360, 0:360].copy()\n",
    "        PIL_image = Image.fromarray(np.uint8(crop_img))\n",
    "        PIL_image.save(target_dir+\"eval/\"+folder_name+filename)\n",
    "    else:\n",
    "        img=np.array(Image.open(train_path+filename))\n",
    "        resized = cv2.resize(img, (360,360), interpolation = cv2.INTER_AREA)\n",
    "        if len(resized.shape)>2:\n",
    "                gray = cv2.cvtColor(resized, cv2.COLOR_BGR2GRAY)\n",
    "        else:\n",
    "            gray=resized\n",
    "        crop_img = gray[50:360, 0:360].copy()\n",
    "        PIL_image = Image.fromarray(np.uint8(crop_img))\n",
    "        PIL_image.save(target_dir+\"train/\"+folder_name+filename)"
   ]
  },
  {
   "cell_type": "markdown",
   "metadata": {},
   "source": [
    "# PREPROCESS TEST SET"
   ]
  },
  {
   "cell_type": "code",
   "execution_count": null,
   "metadata": {},
   "outputs": [],
   "source": [
    "folder_name='COVID-19/'\n",
    "train_path=data_dir+\"test/\"+folder_name\n",
    "\n",
    "for filename in os.listdir(train_path):\n",
    "    img=np.array(Image.open(train_path+filename))\n",
    "    resized = cv2.resize(img, (360,360), interpolation = cv2.INTER_AREA)\n",
    "    if len(resized.shape)>2:\n",
    "            gray = cv2.cvtColor(resized, cv2.COLOR_BGR2GRAY)\n",
    "    else:\n",
    "        gray=resized\n",
    "    crop_img = gray[50:360, 0:360].copy()\n",
    "    PIL_image = Image.fromarray(np.uint8(crop_img))\n",
    "    PIL_image.save(target_dir+\"test/\"+folder_name+filename)"
   ]
  },
  {
   "cell_type": "code",
   "execution_count": null,
   "metadata": {},
   "outputs": [],
   "source": [
    "folder_name='pneumonia/'\n",
    "train_path=data_dir+\"test/\"+folder_name\n",
    "\n",
    "for filename in os.listdir(train_path):\n",
    "    img=np.array(Image.open(train_path+filename))\n",
    "    resized = cv2.resize(img, (360,360), interpolation = cv2.INTER_AREA)\n",
    "    if len(resized.shape)>2:\n",
    "            gray = cv2.cvtColor(resized, cv2.COLOR_BGR2GRAY)\n",
    "    else:\n",
    "        gray=resized\n",
    "    crop_img = gray[50:360, 0:360].copy()\n",
    "    PIL_image = Image.fromarray(np.uint8(crop_img))\n",
    "    PIL_image.save(target_dir+\"test/\"+folder_name+filename)"
   ]
  },
  {
   "cell_type": "code",
   "execution_count": null,
   "metadata": {},
   "outputs": [],
   "source": [
    "folder_name='normal/'\n",
    "train_path=data_dir+\"test/\"+folder_name\n",
    "\n",
    "for filename in os.listdir(train_path):\n",
    "    img=np.array(Image.open(train_path+filename))\n",
    "    resized = cv2.resize(img, (360,360), interpolation = cv2.INTER_AREA)\n",
    "    if len(resized.shape)>2:\n",
    "            gray = cv2.cvtColor(resized, cv2.COLOR_BGR2GRAY)\n",
    "    else:\n",
    "        gray=resized\n",
    "    crop_img = gray[50:360, 0:360].copy()\n",
    "    PIL_image = Image.fromarray(np.uint8(crop_img))\n",
    "    PIL_image.save(target_dir+\"test/\"+folder_name+filename)"
   ]
  },
  {
   "cell_type": "code",
   "execution_count": null,
   "metadata": {},
   "outputs": [],
   "source": []
  }
 ],
 "metadata": {
  "kernelspec": {
   "display_name": "Python 3",
   "language": "python",
   "name": "python3"
  },
  "language_info": {
   "codemirror_mode": {
    "name": "ipython",
    "version": 3
   },
   "file_extension": ".py",
   "mimetype": "text/x-python",
   "name": "python",
   "nbconvert_exporter": "python",
   "pygments_lexer": "ipython3",
   "version": "3.7.6"
  }
 },
 "nbformat": 4,
 "nbformat_minor": 4
}
